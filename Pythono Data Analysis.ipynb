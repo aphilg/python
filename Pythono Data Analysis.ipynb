{
 "cells": [
  {
   "cell_type": "code",
   "execution_count": 7,
   "metadata": {},
   "outputs": [],
   "source": [
    "import pandas as pd\n",
    "import numpy as np\n",
    "import matplotlib.pyplot as plt"
   ]
  },
  {
   "cell_type": "code",
   "execution_count": 4,
   "metadata": {},
   "outputs": [],
   "source": [
    "df = pd.read_csv('NCHS_-_Death_rates_and_life_expectancy_at_birth.csv')"
   ]
  },
  {
   "cell_type": "code",
   "execution_count": 5,
   "metadata": {},
   "outputs": [
    {
     "name": "stdout",
     "output_type": "stream",
     "text": [
      "   Year       Race         Sex  Average Life Expectancy (Years)  \\\n",
      "0  2015  All Races  Both Sexes                              NaN   \n",
      "1  2014  All Races  Both Sexes                             78.9   \n",
      "2  2013  All Races  Both Sexes                             78.8   \n",
      "3  2012  All Races  Both Sexes                             78.8   \n",
      "4  2011  All Races  Both Sexes                             78.7   \n",
      "\n",
      "   Age-adjusted Death Rate  \n",
      "0                    733.1  \n",
      "1                    724.6  \n",
      "2                    731.9  \n",
      "3                    732.8  \n",
      "4                    741.3  \n"
     ]
    }
   ],
   "source": [
    "print(df.head())"
   ]
  },
  {
   "cell_type": "code",
   "execution_count": 77,
   "metadata": {},
   "outputs": [
    {
     "data": {
      "text/plain": [
       "81.4"
      ]
     },
     "execution_count": 77,
     "metadata": {},
     "output_type": "execute_result"
    }
   ],
   "source": [
    "df['Average Life Expectancy (Years)'].max()"
   ]
  },
  {
   "cell_type": "code",
   "execution_count": 79,
   "metadata": {},
   "outputs": [
    {
     "data": {
      "text/plain": [
       "2014    1\n",
       "2013    1\n",
       "2012    1\n",
       "Name: Year, dtype: int64"
      ]
     },
     "execution_count": 79,
     "metadata": {},
     "output_type": "execute_result"
    }
   ],
   "source": [
    "df['Year'][df['Average Life Expectancy (Years)'] == 81.4].value_counts()"
   ]
  },
  {
   "cell_type": "code",
   "execution_count": 82,
   "metadata": {},
   "outputs": [
    {
     "data": {
      "text/plain": [
       "64.11729468599037"
      ]
     },
     "execution_count": 82,
     "metadata": {},
     "output_type": "execute_result"
    }
   ],
   "source": [
    "df['Average Life Expectancy (Years)'].mean()"
   ]
  },
  {
   "cell_type": "code",
   "execution_count": 81,
   "metadata": {},
   "outputs": [
    {
     "data": {
      "text/plain": [
       "29.1"
      ]
     },
     "execution_count": 81,
     "metadata": {},
     "output_type": "execute_result"
    }
   ],
   "source": [
    "df['Average Life Expectancy (Years)'].min()"
   ]
  },
  {
   "cell_type": "code",
   "execution_count": 80,
   "metadata": {},
   "outputs": [
    {
     "data": {
      "text/plain": [
       "1904    1\n",
       "Name: Year, dtype: int64"
      ]
     },
     "execution_count": 80,
     "metadata": {},
     "output_type": "execute_result"
    }
   ],
   "source": [
    "df['Year'][df['Average Life Expectancy (Years)'] == 29.1].value_counts()"
   ]
  },
  {
   "cell_type": "code",
   "execution_count": 13,
   "metadata": {},
   "outputs": [
    {
     "data": {
      "text/html": [
       "<div>\n",
       "<style scoped>\n",
       "    .dataframe tbody tr th:only-of-type {\n",
       "        vertical-align: middle;\n",
       "    }\n",
       "\n",
       "    .dataframe tbody tr th {\n",
       "        vertical-align: top;\n",
       "    }\n",
       "\n",
       "    .dataframe thead th {\n",
       "        text-align: right;\n",
       "    }\n",
       "</style>\n",
       "<table border=\"1\" class=\"dataframe\">\n",
       "  <thead>\n",
       "    <tr style=\"text-align: right;\">\n",
       "      <th></th>\n",
       "      <th>Year</th>\n",
       "      <th>Average Life Expectancy (Years)</th>\n",
       "      <th>Age-adjusted Death Rate</th>\n",
       "    </tr>\n",
       "    <tr>\n",
       "      <th>Sex</th>\n",
       "      <th></th>\n",
       "      <th></th>\n",
       "      <th></th>\n",
       "    </tr>\n",
       "  </thead>\n",
       "  <tbody>\n",
       "    <tr>\n",
       "      <th>Both Sexes</th>\n",
       "      <td>1957.5</td>\n",
       "      <td>64.080580</td>\n",
       "      <td>1601.933046</td>\n",
       "    </tr>\n",
       "    <tr>\n",
       "      <th>Female</th>\n",
       "      <td>1957.5</td>\n",
       "      <td>66.735362</td>\n",
       "      <td>1424.902586</td>\n",
       "    </tr>\n",
       "    <tr>\n",
       "      <th>Male</th>\n",
       "      <td>1957.5</td>\n",
       "      <td>61.535942</td>\n",
       "      <td>1815.394828</td>\n",
       "    </tr>\n",
       "  </tbody>\n",
       "</table>\n",
       "</div>"
      ],
      "text/plain": [
       "              Year  Average Life Expectancy (Years)  Age-adjusted Death Rate\n",
       "Sex                                                                         \n",
       "Both Sexes  1957.5                        64.080580              1601.933046\n",
       "Female      1957.5                        66.735362              1424.902586\n",
       "Male        1957.5                        61.535942              1815.394828"
      ]
     },
     "execution_count": 13,
     "metadata": {},
     "output_type": "execute_result"
    }
   ],
   "source": [
    "df.groupby('Sex').mean()"
   ]
  },
  {
   "cell_type": "code",
   "execution_count": 15,
   "metadata": {
    "scrolled": true
   },
   "outputs": [
    {
     "data": {
      "text/html": [
       "<div>\n",
       "<style scoped>\n",
       "    .dataframe tbody tr th:only-of-type {\n",
       "        vertical-align: middle;\n",
       "    }\n",
       "\n",
       "    .dataframe tbody tr th {\n",
       "        vertical-align: top;\n",
       "    }\n",
       "\n",
       "    .dataframe thead th {\n",
       "        text-align: right;\n",
       "    }\n",
       "</style>\n",
       "<table border=\"1\" class=\"dataframe\">\n",
       "  <thead>\n",
       "    <tr style=\"text-align: right;\">\n",
       "      <th></th>\n",
       "      <th>Year</th>\n",
       "      <th>Average Life Expectancy (Years)</th>\n",
       "      <th>Age-adjusted Death Rate</th>\n",
       "    </tr>\n",
       "    <tr>\n",
       "      <th>Race</th>\n",
       "      <th></th>\n",
       "      <th></th>\n",
       "      <th></th>\n",
       "    </tr>\n",
       "  </thead>\n",
       "  <tbody>\n",
       "    <tr>\n",
       "      <th>All Races</th>\n",
       "      <td>1957.5</td>\n",
       "      <td>66.587246</td>\n",
       "      <td>1488.574138</td>\n",
       "    </tr>\n",
       "    <tr>\n",
       "      <th>Black</th>\n",
       "      <td>1957.5</td>\n",
       "      <td>58.368696</td>\n",
       "      <td>1896.114943</td>\n",
       "    </tr>\n",
       "    <tr>\n",
       "      <th>White</th>\n",
       "      <td>1957.5</td>\n",
       "      <td>67.395942</td>\n",
       "      <td>1457.541379</td>\n",
       "    </tr>\n",
       "  </tbody>\n",
       "</table>\n",
       "</div>"
      ],
      "text/plain": [
       "             Year  Average Life Expectancy (Years)  Age-adjusted Death Rate\n",
       "Race                                                                       \n",
       "All Races  1957.5                        66.587246              1488.574138\n",
       "Black      1957.5                        58.368696              1896.114943\n",
       "White      1957.5                        67.395942              1457.541379"
      ]
     },
     "execution_count": 15,
     "metadata": {},
     "output_type": "execute_result"
    }
   ],
   "source": [
    "df.groupby('Race').mean()"
   ]
  },
  {
   "cell_type": "code",
   "execution_count": 20,
   "metadata": {
    "scrolled": false
   },
   "outputs": [
    {
     "data": {
      "text/plain": [
       "Year  Sex       \n",
       "1900  Both Sexes    42.633333\n",
       "      Female        43.500000\n",
       "      Male          41.800000\n",
       "1901  Both Sexes    44.066667\n",
       "      Female        45.633333\n",
       "      Male          42.600000\n",
       "1902  Both Sexes    46.000000\n",
       "      Female        47.866667\n",
       "      Male          44.300000\n",
       "1903  Both Sexes    44.833333\n",
       "      Female        46.366667\n",
       "      Male          43.433333\n",
       "1904  Both Sexes    42.133333\n",
       "      Female        43.766667\n",
       "      Male          40.633333\n",
       "1905  Both Sexes    43.033333\n",
       "      Female        44.633333\n",
       "      Male          41.500000\n",
       "1906  Both Sexes    43.633333\n",
       "      Female        45.366667\n",
       "      Male          42.000000\n",
       "1907  Both Sexes    42.733333\n",
       "      Female        44.766667\n",
       "      Male          40.900000\n",
       "1908  Both Sexes    45.833333\n",
       "      Female        47.366667\n",
       "      Male          44.400000\n",
       "1909  Both Sexes    46.766667\n",
       "      Female        48.433333\n",
       "      Male          45.200000\n",
       "                      ...    \n",
       "2006  Both Sexes    76.500000\n",
       "      Female        79.233333\n",
       "      Male          73.633333\n",
       "2007  Both Sexes    76.800000\n",
       "      Female        79.500000\n",
       "      Male          73.933333\n",
       "2008  Both Sexes    77.000000\n",
       "      Female        79.600000\n",
       "      Male          74.200000\n",
       "2009  Both Sexes    77.333333\n",
       "      Female        79.933333\n",
       "      Male          74.600000\n",
       "2010  Both Sexes    77.566667\n",
       "      Female        80.100000\n",
       "      Male          74.833333\n",
       "2011  Both Sexes    77.666667\n",
       "      Female        80.200000\n",
       "      Male          75.033333\n",
       "2012  Both Sexes    77.800000\n",
       "      Female        80.333333\n",
       "      Male          75.133333\n",
       "2013  Both Sexes    77.800000\n",
       "      Female        80.333333\n",
       "      Male          75.133333\n",
       "2014  Both Sexes    77.866667\n",
       "      Female        80.400000\n",
       "      Male          75.233333\n",
       "2015  Both Sexes          NaN\n",
       "      Female              NaN\n",
       "      Male                NaN\n",
       "Name: Average Life Expectancy (Years), Length: 348, dtype: float64"
      ]
     },
     "execution_count": 20,
     "metadata": {},
     "output_type": "execute_result"
    }
   ],
   "source": [
    "df.groupby(['Year', 'Sex'])['Average Life Expectancy (Years)'].mean()"
   ]
  },
  {
   "cell_type": "code",
   "execution_count": 57,
   "metadata": {
    "scrolled": true
   },
   "outputs": [
    {
     "data": {
      "text/plain": [
       "Year  Race     \n",
       "1900  All Races    47.300000\n",
       "      Black        33.000000\n",
       "      White        47.633333\n",
       "1901  All Races    49.100000\n",
       "      Black        33.733333\n",
       "      White        49.466667\n",
       "1902  All Races    51.566667\n",
       "      Black        34.633333\n",
       "      White        51.966667\n",
       "1903  All Races    50.533333\n",
       "      Black        33.133333\n",
       "      White        50.966667\n",
       "1904  All Races    47.633333\n",
       "      Black        30.866667\n",
       "      White        48.033333\n",
       "1905  All Races    48.733333\n",
       "      Black        31.333333\n",
       "      White        49.100000\n",
       "1906  All Races    48.800000\n",
       "      Black        32.866667\n",
       "      White        49.333333\n",
       "1907  All Races    47.700000\n",
       "      Black        32.533333\n",
       "      White        48.166667\n",
       "1908  All Races    51.133333\n",
       "      Black        34.900000\n",
       "      White        51.566667\n",
       "1909  All Races    52.133333\n",
       "      Black        35.733333\n",
       "      White        52.533333\n",
       "                     ...    \n",
       "2006  All Races    77.766667\n",
       "      Black        73.333333\n",
       "      White        78.266667\n",
       "2007  All Races    78.066667\n",
       "      Black        73.700000\n",
       "      White        78.466667\n",
       "2008  All Races    78.133333\n",
       "      Black        74.166667\n",
       "      White        78.500000\n",
       "2009  All Races    78.466667\n",
       "      Black        74.600000\n",
       "      White        78.800000\n",
       "2010  All Races    78.633333\n",
       "      Black        74.966667\n",
       "      White        78.900000\n",
       "2011  All Races    78.700000\n",
       "      Black        75.233333\n",
       "      White        78.966667\n",
       "2012  All Races    78.800000\n",
       "      Black        75.400000\n",
       "      White        79.066667\n",
       "2013  All Races    78.800000\n",
       "      Black        75.400000\n",
       "      White        79.066667\n",
       "2014  All Races    78.900000\n",
       "      Black        75.533333\n",
       "      White        79.066667\n",
       "2015  All Races          NaN\n",
       "      Black              NaN\n",
       "      White              NaN\n",
       "Name: Average Life Expectancy (Years), Length: 348, dtype: float64"
      ]
     },
     "execution_count": 57,
     "metadata": {},
     "output_type": "execute_result"
    }
   ],
   "source": [
    "df.groupby(['Year', 'Race'])['Average Life Expectancy (Years)'].mean()"
   ]
  },
  {
   "cell_type": "code",
   "execution_count": 22,
   "metadata": {},
   "outputs": [
    {
     "data": {
      "text/html": [
       "<div>\n",
       "<style scoped>\n",
       "    .dataframe tbody tr th:only-of-type {\n",
       "        vertical-align: middle;\n",
       "    }\n",
       "\n",
       "    .dataframe tbody tr th {\n",
       "        vertical-align: top;\n",
       "    }\n",
       "\n",
       "    .dataframe thead th {\n",
       "        text-align: right;\n",
       "    }\n",
       "</style>\n",
       "<table border=\"1\" class=\"dataframe\">\n",
       "  <thead>\n",
       "    <tr style=\"text-align: right;\">\n",
       "      <th></th>\n",
       "      <th>Year</th>\n",
       "      <th>Average Life Expectancy (Years)</th>\n",
       "      <th>Age-adjusted Death Rate</th>\n",
       "    </tr>\n",
       "  </thead>\n",
       "  <tbody>\n",
       "    <tr>\n",
       "      <th>count</th>\n",
       "      <td>1044.00000</td>\n",
       "      <td>1035.000000</td>\n",
       "      <td>1044.000000</td>\n",
       "    </tr>\n",
       "    <tr>\n",
       "      <th>mean</th>\n",
       "      <td>1957.50000</td>\n",
       "      <td>64.117295</td>\n",
       "      <td>1614.076820</td>\n",
       "    </tr>\n",
       "    <tr>\n",
       "      <th>std</th>\n",
       "      <td>33.50112</td>\n",
       "      <td>11.786490</td>\n",
       "      <td>678.013357</td>\n",
       "    </tr>\n",
       "    <tr>\n",
       "      <th>min</th>\n",
       "      <td>1900.00000</td>\n",
       "      <td>29.100000</td>\n",
       "      <td>616.700000</td>\n",
       "    </tr>\n",
       "    <tr>\n",
       "      <th>25%</th>\n",
       "      <td>1928.75000</td>\n",
       "      <td>56.600000</td>\n",
       "      <td>1040.250000</td>\n",
       "    </tr>\n",
       "    <tr>\n",
       "      <th>50%</th>\n",
       "      <td>1957.50000</td>\n",
       "      <td>66.600000</td>\n",
       "      <td>1541.400000</td>\n",
       "    </tr>\n",
       "    <tr>\n",
       "      <th>75%</th>\n",
       "      <td>1986.25000</td>\n",
       "      <td>73.600000</td>\n",
       "      <td>2073.025000</td>\n",
       "    </tr>\n",
       "    <tr>\n",
       "      <th>max</th>\n",
       "      <td>2015.00000</td>\n",
       "      <td>81.400000</td>\n",
       "      <td>3845.700000</td>\n",
       "    </tr>\n",
       "  </tbody>\n",
       "</table>\n",
       "</div>"
      ],
      "text/plain": [
       "             Year  Average Life Expectancy (Years)  Age-adjusted Death Rate\n",
       "count  1044.00000                      1035.000000              1044.000000\n",
       "mean   1957.50000                        64.117295              1614.076820\n",
       "std      33.50112                        11.786490               678.013357\n",
       "min    1900.00000                        29.100000               616.700000\n",
       "25%    1928.75000                        56.600000              1040.250000\n",
       "50%    1957.50000                        66.600000              1541.400000\n",
       "75%    1986.25000                        73.600000              2073.025000\n",
       "max    2015.00000                        81.400000              3845.700000"
      ]
     },
     "execution_count": 22,
     "metadata": {},
     "output_type": "execute_result"
    }
   ],
   "source": [
    "df.describe()"
   ]
  },
  {
   "cell_type": "code",
   "execution_count": 29,
   "metadata": {
    "scrolled": true
   },
   "outputs": [
    {
     "data": {
      "text/plain": [
       "Year\n",
       "1900    48.7\n",
       "1901    51.0\n",
       "1902    53.8\n",
       "1903    52.5\n",
       "1904    49.5\n",
       "1905    50.6\n",
       "1906    51.4\n",
       "1907    50.4\n",
       "1908    53.3\n",
       "1909    54.2\n",
       "1910    52.0\n",
       "1911    54.9\n",
       "1912    56.2\n",
       "1913    55.7\n",
       "1914    57.5\n",
       "1915    57.5\n",
       "1916    55.2\n",
       "1917    55.3\n",
       "1918    43.2\n",
       "1919    57.4\n",
       "1920    55.6\n",
       "1921    62.9\n",
       "1922    61.9\n",
       "1923    59.6\n",
       "1924    63.4\n",
       "1925    62.4\n",
       "1926    59.6\n",
       "1927    63.9\n",
       "1928    60.0\n",
       "1929    60.3\n",
       "        ... \n",
       "1986    78.8\n",
       "1987    78.9\n",
       "1988    78.9\n",
       "1989    79.2\n",
       "1990    79.4\n",
       "1991    79.6\n",
       "1992    79.8\n",
       "1993    79.5\n",
       "1994    79.6\n",
       "1995    79.6\n",
       "1996    79.7\n",
       "1997    79.9\n",
       "1998    80.0\n",
       "1999    79.9\n",
       "2000    79.9\n",
       "2001    80.0\n",
       "2002    80.1\n",
       "2003    80.2\n",
       "2004    80.5\n",
       "2005    80.5\n",
       "2006    80.7\n",
       "2007    80.9\n",
       "2008    80.9\n",
       "2009    81.2\n",
       "2010    81.3\n",
       "2011    81.3\n",
       "2012    81.4\n",
       "2013    81.4\n",
       "2014    81.4\n",
       "2015     NaN\n",
       "Name: Average Life Expectancy (Years), Length: 116, dtype: float64"
      ]
     },
     "execution_count": 29,
     "metadata": {},
     "output_type": "execute_result"
    }
   ],
   "source": [
    "df.groupby(['Year'])['Average Life Expectancy (Years)'].max()"
   ]
  },
  {
   "cell_type": "code",
   "execution_count": 54,
   "metadata": {},
   "outputs": [
    {
     "data": {
      "text/plain": [
       "79.9"
      ]
     },
     "execution_count": 54,
     "metadata": {},
     "output_type": "execute_result"
    }
   ],
   "source": [
    "df['Average Life Expectancy (Years)'][df['Year'] == 2000].max()"
   ]
  },
  {
   "cell_type": "code",
   "execution_count": 55,
   "metadata": {},
   "outputs": [
    {
     "data": {
      "text/plain": [
       "75.31111111111112"
      ]
     },
     "execution_count": 55,
     "metadata": {},
     "output_type": "execute_result"
    }
   ],
   "source": [
    "df['Average Life Expectancy (Years)'][df['Year'] == 2000].mean()"
   ]
  },
  {
   "cell_type": "code",
   "execution_count": 56,
   "metadata": {},
   "outputs": [
    {
     "data": {
      "text/plain": [
       "68.2"
      ]
     },
     "execution_count": 56,
     "metadata": {},
     "output_type": "execute_result"
    }
   ],
   "source": [
    "df['Average Life Expectancy (Years)'][df['Year'] == 2000].min()"
   ]
  },
  {
   "cell_type": "code",
   "execution_count": 88,
   "metadata": {},
   "outputs": [
    {
     "data": {
      "text/plain": [
       "3845.7"
      ]
     },
     "execution_count": 88,
     "metadata": {},
     "output_type": "execute_result"
    }
   ],
   "source": [
    "df['Age-adjusted Death Rate'].max()"
   ]
  },
  {
   "cell_type": "code",
   "execution_count": 92,
   "metadata": {
    "scrolled": true
   },
   "outputs": [
    {
     "data": {
      "text/plain": [
       "1904    1\n",
       "Name: Year, dtype: int64"
      ]
     },
     "execution_count": 92,
     "metadata": {},
     "output_type": "execute_result"
    }
   ],
   "source": [
    "df['Year'][df['Age-adjusted Death Rate'] == 3845.7].value_counts()"
   ]
  },
  {
   "cell_type": "code",
   "execution_count": 94,
   "metadata": {},
   "outputs": [
    {
     "data": {
      "text/plain": [
       "616.7"
      ]
     },
     "execution_count": 94,
     "metadata": {},
     "output_type": "execute_result"
    }
   ],
   "source": [
    "df['Age-adjusted Death Rate'].min()"
   ]
  },
  {
   "cell_type": "code",
   "execution_count": 95,
   "metadata": {},
   "outputs": [
    {
     "data": {
      "text/plain": [
       "2014    1\n",
       "Name: Year, dtype: int64"
      ]
     },
     "execution_count": 95,
     "metadata": {},
     "output_type": "execute_result"
    }
   ],
   "source": [
    "df['Year'][df['Age-adjusted Death Rate'] == 616.7].value_counts()"
   ]
  }
 ],
 "metadata": {
  "kernelspec": {
   "display_name": "Python 3",
   "language": "python",
   "name": "python3"
  },
  "language_info": {
   "codemirror_mode": {
    "name": "ipython",
    "version": 3
   },
   "file_extension": ".py",
   "mimetype": "text/x-python",
   "name": "python",
   "nbconvert_exporter": "python",
   "pygments_lexer": "ipython3",
   "version": "3.7.1"
  }
 },
 "nbformat": 4,
 "nbformat_minor": 2
}
